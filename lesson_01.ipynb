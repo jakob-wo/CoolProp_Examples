
{
 "cells": [
  {
   "cell_type": "markdown",
   "id": "dominican-cornwall",
   "metadata": {},
   "source": [
    "Examples: http://www.coolprop.org/fluid_properties/Incompressibles.html#mixture-examples"
   ]
  },
  {
   "cell_type": "code",
   "execution_count": 1,
   "id": "unknown-revolution",
   "metadata": {},
   "outputs": [],
   "source": [
    "from CoolProp.CoolProp import PhaseSI, PropsSI, get_global_param_string\n",
    "import CoolProp.CoolProp as CoolProp"
   ]
  },
  {
   "cell_type": "code",
   "execution_count": 8,
   "id": "sticky-boring",
   "metadata": {},
   "outputs": [
    {
     "name": "stdout",
     "output_type": "stream",
     "text": [
      "Density of 50% (mass) ethylene glycol/water at 300 K, 101325 Pa: 1061.1793077204613\n"
     ]
    }
   ],
   "source": [
    "print(\"Density of 50% (mass) ethylene glycol/water at 300 K, 101325 Pa:\", \n",
    "      PropsSI(\"D\", \"T\", 300, \"P\", 101325, \"INCOMP::MEG-50%\"))"
   ]
  },
  {
   "cell_type": "markdown",
   "id": "increasing-yacht",
   "metadata": {},
   "source": [
    "**Dynamic Viscosity** of 35%-Ethylene Glycol (MEG) in Pa*s"
   ]
  },
  {
   "cell_type": "code",
   "execution_count": 12,
   "id": "phantom-balance",
   "metadata": {},
   "outputs": [
    {
     "name": "stdout",
     "output_type": "stream",
     "text": [
      "0.002022714150653019 Pa s\n"
     ]
    }
   ],
   "source": [
    "print(PropsSI(\"V\", \"T\", 300, \"P\", 101325, \"INCOMP::MEG-35%\"), \"Pa s\")"
   ]
  },
  {
   "cell_type": "markdown",
   "id": "advisory-copyright",
   "metadata": {},
   "source": [
    "**Density** of 40%-Ethylene Glycol (MEG)"
   ]
  },
  {
   "cell_type": "code",
   "execution_count": 14,
   "id": "brave-trash",
   "metadata": {},
   "outputs": [
    {
     "data": {
      "text/plain": [
       "1048.4715917047124"
      ]
     },
     "execution_count": 14,
     "metadata": {},
     "output_type": "execute_result"
    }
   ],
   "source": [
    "PropsSI(\"D\", \"T\", 300, \"P\", 101325, \"INCOMP::MEG-40%\")"
   ]
  },
  {
   "cell_type": "code",
   "execution_count": null,
   "id": "valuable-holocaust",
   "metadata": {},
   "outputs": [],
   "source": []
  }
 ],
 "metadata": {
  "kernelspec": {
   "display_name": "Python 3",
   "language": "python",
   "name": "python3"
  },
  "language_info": {
   "codemirror_mode": {
    "name": "ipython",
    "version": 3
   },
   "file_extension": ".py",
   "mimetype": "text/x-python",
   "name": "python",
   "nbconvert_exporter": "python",
   "pygments_lexer": "ipython3",
   "version": "3.8.5"
  }
 },
 "nbformat": 4,
 "nbformat_minor": 5
}
